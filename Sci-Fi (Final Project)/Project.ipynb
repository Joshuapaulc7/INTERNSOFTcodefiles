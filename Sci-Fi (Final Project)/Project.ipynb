{
 "cells": [
  {
   "cell_type": "code",
   "execution_count": 1,
   "id": "776ec659",
   "metadata": {},
   "outputs": [],
   "source": [
    "import os\n",
    "import time\n",
    "import subprocess\n",
    "import json"
   ]
  },
  {
   "cell_type": "code",
   "execution_count": 2,
   "id": "6c7bd25e",
   "metadata": {},
   "outputs": [],
   "source": [
    "import wolframalpha\n",
    "import requests\n",
    "import webbrowser\n",
    "import wikipedia\n",
    "import datetime\n"
   ]
  },
  {
   "cell_type": "code",
   "execution_count": 3,
   "id": "98dcbf3f",
   "metadata": {},
   "outputs": [],
   "source": [
    "import speech_recognition as sr\n",
    "import pyttsx3"
   ]
  },
  {
   "cell_type": "code",
   "execution_count": null,
   "id": "a8206b53",
   "metadata": {},
   "outputs": [],
   "source": [
    "    "
   ]
  },
  {
   "cell_type": "code",
   "execution_count": 4,
   "id": "9284626c",
   "metadata": {},
   "outputs": [],
   "source": [
    "engine=pyttsx3.init('sapi5')\n",
    "voices=engine.getProperty('voices')\n",
    "engine.setProperty('voice','voices[0].id')"
   ]
  },
  {
   "cell_type": "code",
   "execution_count": 5,
   "id": "f8254572",
   "metadata": {},
   "outputs": [],
   "source": [
    "def speak(text):\n",
    "    engine.say(text)\n",
    "    engine.runAndWait()"
   ]
  },
  {
   "cell_type": "code",
   "execution_count": 6,
   "id": "8df7a788",
   "metadata": {},
   "outputs": [],
   "source": [
    "def wishMe():\n",
    "    hour=datetime.datetime.now().hour\n",
    "    if hour>=0 and hour <12:\n",
    "        speak('Hello, Good Morning Mr.Joshua')\n",
    "        print('Hello, Good Morning Mr.Joshua')\n",
    "    elif hour>=12 and hour<=18:\n",
    "        speak('Hello, Good Afternoon Mr.Joshua')\n",
    "        print('Hello, Good Afternoon Mr.Joshua')\n",
    "    else :\n",
    "        speak('Its already night time, so better go to sleep')\n",
    "        print('Its already night time, better go to sleep')"
   ]
  },
  {
   "cell_type": "code",
   "execution_count": 7,
   "id": "08d2755e",
   "metadata": {},
   "outputs": [],
   "source": [
    "def takeCommand():\n",
    "    r=sr.Recognizer()\n",
    "    with sr.Microphone() as source:\n",
    "        print('I AM LISTENING')\n",
    "        audio=r.listen(source)\n",
    "        \n",
    "        try:\n",
    "            statement=r.recognize_google(audio,language='en-in')\n",
    "            print(f'user said:{statement}\\n')\n",
    "            \n",
    "        except:\n",
    "            speak('Pardon me,please say again')\n",
    "            return 'None'     \n",
    "        return statement"
   ]
  },
  {
   "cell_type": "code",
   "execution_count": null,
   "id": "a10b68cb",
   "metadata": {},
   "outputs": [],
   "source": [
    "    "
   ]
  },
  {
   "cell_type": "code",
   "execution_count": 8,
   "id": "d600a731",
   "metadata": {},
   "outputs": [
    {
     "name": "stdout",
     "output_type": "stream",
     "text": [
      "Hello, Good Afternoon Mr.Joshua\n",
      "I AM LISTENING\n",
      "I AM LISTENING\n"
     ]
    },
    {
     "ename": "KeyboardInterrupt",
     "evalue": "",
     "output_type": "error",
     "traceback": [
      "\u001b[1;31m---------------------------------------------------------------------------\u001b[0m",
      "\u001b[1;31mKeyboardInterrupt\u001b[0m                         Traceback (most recent call last)",
      "\u001b[1;32m~\\AppData\\Local\\Temp\\ipykernel_19408\\3985037409.py\u001b[0m in \u001b[0;36m<module>\u001b[1;34m\u001b[0m\n\u001b[0;32m      6\u001b[0m     \u001b[1;32mwhile\u001b[0m \u001b[1;32mTrue\u001b[0m\u001b[1;33m:\u001b[0m\u001b[1;33m\u001b[0m\u001b[1;33m\u001b[0m\u001b[0m\n\u001b[0;32m      7\u001b[0m         \u001b[0mspeak\u001b[0m\u001b[1;33m(\u001b[0m\u001b[1;34m'How can I help you'\u001b[0m\u001b[1;33m)\u001b[0m\u001b[1;33m\u001b[0m\u001b[1;33m\u001b[0m\u001b[0m\n\u001b[1;32m----> 8\u001b[1;33m         \u001b[0mstatement\u001b[0m\u001b[1;33m=\u001b[0m\u001b[0mtakeCommand\u001b[0m\u001b[1;33m(\u001b[0m\u001b[1;33m)\u001b[0m\u001b[1;33m.\u001b[0m\u001b[0mlower\u001b[0m\u001b[1;33m(\u001b[0m\u001b[1;33m)\u001b[0m\u001b[1;33m\u001b[0m\u001b[1;33m\u001b[0m\u001b[0m\n\u001b[0m\u001b[0;32m      9\u001b[0m         \u001b[1;32mif\u001b[0m \u001b[0mstatement\u001b[0m\u001b[1;33m==\u001b[0m\u001b[1;36m0\u001b[0m\u001b[1;33m:\u001b[0m\u001b[1;33m\u001b[0m\u001b[1;33m\u001b[0m\u001b[0m\n\u001b[0;32m     10\u001b[0m             \u001b[1;32mcontinue\u001b[0m\u001b[1;33m\u001b[0m\u001b[1;33m\u001b[0m\u001b[0m\n",
      "\u001b[1;32m~\\AppData\\Local\\Temp\\ipykernel_19408\\893934773.py\u001b[0m in \u001b[0;36mtakeCommand\u001b[1;34m()\u001b[0m\n\u001b[0;32m      3\u001b[0m     \u001b[1;32mwith\u001b[0m \u001b[0msr\u001b[0m\u001b[1;33m.\u001b[0m\u001b[0mMicrophone\u001b[0m\u001b[1;33m(\u001b[0m\u001b[1;33m)\u001b[0m \u001b[1;32mas\u001b[0m \u001b[0msource\u001b[0m\u001b[1;33m:\u001b[0m\u001b[1;33m\u001b[0m\u001b[1;33m\u001b[0m\u001b[0m\n\u001b[0;32m      4\u001b[0m         \u001b[0mprint\u001b[0m\u001b[1;33m(\u001b[0m\u001b[1;34m'I AM LISTENING'\u001b[0m\u001b[1;33m)\u001b[0m\u001b[1;33m\u001b[0m\u001b[1;33m\u001b[0m\u001b[0m\n\u001b[1;32m----> 5\u001b[1;33m         \u001b[0maudio\u001b[0m\u001b[1;33m=\u001b[0m\u001b[0mr\u001b[0m\u001b[1;33m.\u001b[0m\u001b[0mlisten\u001b[0m\u001b[1;33m(\u001b[0m\u001b[0msource\u001b[0m\u001b[1;33m)\u001b[0m\u001b[1;33m\u001b[0m\u001b[1;33m\u001b[0m\u001b[0m\n\u001b[0m\u001b[0;32m      6\u001b[0m \u001b[1;33m\u001b[0m\u001b[0m\n\u001b[0;32m      7\u001b[0m         \u001b[1;32mtry\u001b[0m\u001b[1;33m:\u001b[0m\u001b[1;33m\u001b[0m\u001b[1;33m\u001b[0m\u001b[0m\n",
      "\u001b[1;32m~\\anaconda3\\lib\\site-packages\\speech_recognition\\__init__.py\u001b[0m in \u001b[0;36mlisten\u001b[1;34m(self, source, timeout, phrase_time_limit, snowboy_configuration)\u001b[0m\n\u001b[0;32m    521\u001b[0m                     \u001b[1;32mbreak\u001b[0m\u001b[1;33m\u001b[0m\u001b[1;33m\u001b[0m\u001b[0m\n\u001b[0;32m    522\u001b[0m \u001b[1;33m\u001b[0m\u001b[0m\n\u001b[1;32m--> 523\u001b[1;33m                 \u001b[0mbuffer\u001b[0m \u001b[1;33m=\u001b[0m \u001b[0msource\u001b[0m\u001b[1;33m.\u001b[0m\u001b[0mstream\u001b[0m\u001b[1;33m.\u001b[0m\u001b[0mread\u001b[0m\u001b[1;33m(\u001b[0m\u001b[0msource\u001b[0m\u001b[1;33m.\u001b[0m\u001b[0mCHUNK\u001b[0m\u001b[1;33m)\u001b[0m\u001b[1;33m\u001b[0m\u001b[1;33m\u001b[0m\u001b[0m\n\u001b[0m\u001b[0;32m    524\u001b[0m                 \u001b[1;32mif\u001b[0m \u001b[0mlen\u001b[0m\u001b[1;33m(\u001b[0m\u001b[0mbuffer\u001b[0m\u001b[1;33m)\u001b[0m \u001b[1;33m==\u001b[0m \u001b[1;36m0\u001b[0m\u001b[1;33m:\u001b[0m \u001b[1;32mbreak\u001b[0m  \u001b[1;31m# reached end of the stream\u001b[0m\u001b[1;33m\u001b[0m\u001b[1;33m\u001b[0m\u001b[0m\n\u001b[0;32m    525\u001b[0m                 \u001b[0mframes\u001b[0m\u001b[1;33m.\u001b[0m\u001b[0mappend\u001b[0m\u001b[1;33m(\u001b[0m\u001b[0mbuffer\u001b[0m\u001b[1;33m)\u001b[0m\u001b[1;33m\u001b[0m\u001b[1;33m\u001b[0m\u001b[0m\n",
      "\u001b[1;32m~\\anaconda3\\lib\\site-packages\\speech_recognition\\__init__.py\u001b[0m in \u001b[0;36mread\u001b[1;34m(self, size)\u001b[0m\n\u001b[0;32m    197\u001b[0m \u001b[1;33m\u001b[0m\u001b[0m\n\u001b[0;32m    198\u001b[0m         \u001b[1;32mdef\u001b[0m \u001b[0mread\u001b[0m\u001b[1;33m(\u001b[0m\u001b[0mself\u001b[0m\u001b[1;33m,\u001b[0m \u001b[0msize\u001b[0m\u001b[1;33m)\u001b[0m\u001b[1;33m:\u001b[0m\u001b[1;33m\u001b[0m\u001b[1;33m\u001b[0m\u001b[0m\n\u001b[1;32m--> 199\u001b[1;33m             \u001b[1;32mreturn\u001b[0m \u001b[0mself\u001b[0m\u001b[1;33m.\u001b[0m\u001b[0mpyaudio_stream\u001b[0m\u001b[1;33m.\u001b[0m\u001b[0mread\u001b[0m\u001b[1;33m(\u001b[0m\u001b[0msize\u001b[0m\u001b[1;33m,\u001b[0m \u001b[0mexception_on_overflow\u001b[0m\u001b[1;33m=\u001b[0m\u001b[1;32mFalse\u001b[0m\u001b[1;33m)\u001b[0m\u001b[1;33m\u001b[0m\u001b[1;33m\u001b[0m\u001b[0m\n\u001b[0m\u001b[0;32m    200\u001b[0m \u001b[1;33m\u001b[0m\u001b[0m\n\u001b[0;32m    201\u001b[0m         \u001b[1;32mdef\u001b[0m \u001b[0mclose\u001b[0m\u001b[1;33m(\u001b[0m\u001b[0mself\u001b[0m\u001b[1;33m)\u001b[0m\u001b[1;33m:\u001b[0m\u001b[1;33m\u001b[0m\u001b[1;33m\u001b[0m\u001b[0m\n",
      "\u001b[1;32m~\\anaconda3\\lib\\site-packages\\pyaudio\\__init__.py\u001b[0m in \u001b[0;36mread\u001b[1;34m(self, num_frames, exception_on_overflow)\u001b[0m\n\u001b[0;32m    568\u001b[0m                 raise IOError(\"Not input stream\",\n\u001b[0;32m    569\u001b[0m                               paCanNotReadFromAnOutputOnlyStream)\n\u001b[1;32m--> 570\u001b[1;33m             return pa.read_stream(self._stream, num_frames,\n\u001b[0m\u001b[0;32m    571\u001b[0m                                   exception_on_overflow)\n\u001b[0;32m    572\u001b[0m \u001b[1;33m\u001b[0m\u001b[0m\n",
      "\u001b[1;31mKeyboardInterrupt\u001b[0m: "
     ]
    }
   ],
   "source": [
    "speak('LOADING YOU PERSONAL AI ASSISTANT JARVIS')\n",
    "wishMe()\n",
    "\n",
    "if __name__=='__main__':\n",
    "    \n",
    "    while True:\n",
    "        speak('How can I help you')\n",
    "        statement=takeCommand().lower()\n",
    "        if statement==0:\n",
    "            continue\n",
    "        if 'good bye' in statement or 'ok bye' in statement or 'stop' in statement:\n",
    "            speak('Your personal AI Assistant JARVIS is shutting down, Good Bye')\n",
    "            print('Your personal AI Assistant JARVIS is shutting down, Good bye')\n",
    "            break\n",
    "        \n",
    "        if 'wikipedia' in statement:\n",
    "            speak('searching wikipedia....')\n",
    "            statement=statement.replace('wikipedia','')\n",
    "            results=wikipedia.summary(statement,sentences=3)\n",
    "            speak('According to Wikipedia...')\n",
    "            print(results)\n",
    "            speak(results)\n",
    "            \n",
    "        elif 'open youtube' in statement:\n",
    "            webbrowser.open_new_tab('https://www.youtube.com')\n",
    "            speak('Youtube is open for you')\n",
    "            time.sleep(5)\n",
    "            \n",
    "        elif 'open google' in statement:\n",
    "            webbrowser.open_new_tab('https://www.google.com')\n",
    "            speak('Google Search is open for you')\n",
    "            \n",
    "        elif 'Open Gmail' in statement:\n",
    "            webbrowser.open_new_tab('gmail.com')\n",
    "            speak('Your gmail is open for you')\n",
    "            time.sleep(5)\n",
    "            \n",
    "        elif 'weather' in statement:\n",
    "            api_key='8ef61edcf1c576d65d836254e11ea420'\n",
    "            base_url='https://api.openweathermap.org/data/2.5/weather?'\n",
    "            speak('What\\'s the City Name?')\n",
    "            city_name=takeCommand()\n",
    "            complete_url=base_url+'appid= '+api_key+'&q= '+city_name\n",
    "            response=requests.get(complete_url)\n",
    "            x=response.json()\n",
    "            if x['cod']!='404':\n",
    "                y=x['main']\n",
    "                current_temperature=y['temp']\n",
    "                current_humidity=y['humidity']\n",
    "                z=x['weather']\n",
    "                weather_description=z[0]['description']\n",
    "                speak('The temperature in Kelvin units is '+str(current_temperatur)+'\\nHumidity in percentage is '+str(current_humidity)+'\\nWeather Description '+str(weather_description))\n",
    "                print('The temperature in Kelvin units is '+str(current_temperatur)+'\\nHumidity in percentage is '+str(current_humidity)+'\\nWeather Description '+str(weather_description))\n",
    "            else:\n",
    "                speak('City not found')\n",
    "                print('City not found')\n",
    "                \n",
    "        elif 'time' in statement:\n",
    "            strTime=datetime.datetime.now().strftime('%H:%M:%S')\n",
    "            speak(f'the time is {strTime}')\n",
    "            \n",
    "        elif 'who are you' in statement or 'what can you do' in statement:\n",
    "            speak('I am JARVIS version 1 point 0, your personal assistant. I am programmed to do minor tasks like '\n",
    "                  'opening youtube, google chrome, gmail and stack overflow, predict time, take a photo, search wikipedia, predict weather'\n",
    "                  'in different cities, get top headline news from times of india and you can ask me computational or geographical questions too')\n",
    "        \n",
    "        elif 'who made you' in statement or 'who created you' in statement or 'who discovered you' in statement:\n",
    "            speak('I WAS BUILT BY JOSHUA PAUL ')\n",
    "            print('I WAS BUILT BY JOSHUA PAUL')\n",
    "            \n",
    "        elif 'open stack overflow' in statement:\n",
    "            webbrowser.open_new_tab('https://stackoverflow.com/login')\n",
    "            time.sleep(5)\n",
    "            \n",
    "        elif 'news' in statement:\n",
    "            news=webbrowser.open_new_tab('https://timesofindia.indiatimes.com/home/headlines')\n",
    "            speak('Here are some headlines for you from Times of India - Happy Reading!!')\n",
    "            time.sleep(7)\n",
    "            \n",
    "        elif 'search' in statement:\n",
    "            statement=statement.replace('search','')\n",
    "            webbrowser.open_newtab('statement')\n",
    "            time.sleep(5)\n",
    "            \n",
    "        elif 'ask' in statement:\n",
    "            speak('I can answer to computational and geographical questions too, just try me!! What do you wanna ask?')\n",
    "            question=takeCommand()\n",
    "            app_id='R2K75H-7ELALHR35X'\n",
    "            client=wolframalpha.Client('“R2K75H-7ELALHR35X')\n",
    "            res=client.query(question)\n",
    "            answer=next(res.results).text\n",
    "            speak(answer)\n",
    "            print(answer)\n",
    "            \n",
    "            \n",
    "        elif 'logg off' in statement or 'sign out' in statement or 'shut down' in statement:\n",
    "            speak('OK , Your PC will shut down in 10 seconds - make sure you have saved and exit from all applicatons')\n",
    "            subprocess.call(['shutdown','/1'])\n",
    "            \n",
    "time.sleep(3)"
   ]
  },
  {
   "cell_type": "code",
   "execution_count": null,
   "id": "80ad381d",
   "metadata": {},
   "outputs": [],
   "source": []
  },
  {
   "cell_type": "code",
   "execution_count": null,
   "id": "2a13fcad",
   "metadata": {},
   "outputs": [],
   "source": []
  },
  {
   "cell_type": "code",
   "execution_count": null,
   "id": "f3723810",
   "metadata": {},
   "outputs": [],
   "source": []
  },
  {
   "cell_type": "code",
   "execution_count": null,
   "id": "03597909",
   "metadata": {},
   "outputs": [],
   "source": []
  }
 ],
 "metadata": {
  "kernelspec": {
   "display_name": "Python 3 (ipykernel)",
   "language": "python",
   "name": "python3"
  },
  "language_info": {
   "codemirror_mode": {
    "name": "ipython",
    "version": 3
   },
   "file_extension": ".py",
   "mimetype": "text/x-python",
   "name": "python",
   "nbconvert_exporter": "python",
   "pygments_lexer": "ipython3",
   "version": "3.9.13"
  }
 },
 "nbformat": 4,
 "nbformat_minor": 5
}
